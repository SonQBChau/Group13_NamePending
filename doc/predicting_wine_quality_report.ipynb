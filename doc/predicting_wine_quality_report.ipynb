{
 "cells": [
  {
   "cell_type": "markdown",
   "id": "2033c842",
   "metadata": {},
   "source": []
  },
  {
   "cell_type": "markdown",
   "id": "cb8f2b55",
   "metadata": {},
   "source": [
    "# Predicting wine quality\n",
    "\n",
    "Son Chau\n",
    "\n",
    "2021/11/24\n",
    "\n",
    "# Summary\n",
    "\n",
    "Here we attempt to build a classification model ...\n",
    "\n",
    "# Introduction\n",
    "\n",
    "Here we ask if we can use a machine learning algorithm to predict ...\n",
    "\n",
    "# Methods\n",
    "\n",
    "## Data\n",
    "\n",
    "The data set used in this project is #reference\n",
    "\n",
    "## Analysis\n",
    "\n",
    "...algorithm was used to build a...\n",
    "\n",
    "Python programming languages  and the followingPython packages were used to perform the analysis: docopt, Pandas, sklearn, altair, numpy, joblib, scipy, pathlib\n",
    "\n",
    "The code used to perform the analysis and create this report can be found here:\n",
    "\n",
    "# Results & Discussion\n",
    "\n",
    "we plotted the distributions of each predictor from the training data set \n",
    "\n",
    "<img src=\"../results/output.png\" >\n",
    "\n",
    "Figure 1. \n",
    "\n",
    "<img src=\"../results/output2.png\" >\n",
    "Figure 2. \n",
    "\n",
    "\n",
    "\n",
    "Table 1. Confusion matrix of mode\n",
    "\n",
    "# References\n"
   ]
  },
  {
   "cell_type": "code",
   "execution_count": null,
   "id": "0ce1610f",
   "metadata": {},
   "outputs": [],
   "source": [
    "# attempt to load a model\n",
    "from ml_models import load_model\n",
    "model = load_model(path)\n",
    "# create a confusion matrix from the model\n",
    "from ml_models import confusion_matrix\n",
    "# cm = confusion_matrix(model, X_test, y_test)\n",
    "\n"
   ]
  }
 ],
 "metadata": {
  "interpreter": {
   "hash": "8e196371260f8b60674279c299d72af2052f2a05e0b8bd78966617e48bcaa3c5"
  },
  "kernelspec": {
   "display_name": "Python [conda env:py_env]",
   "language": "python",
   "name": "python3"
  },
  "language_info": {
   "codemirror_mode": {
    "name": "ipython",
    "version": 3
   },
   "file_extension": ".py",
   "mimetype": "text/x-python",
   "name": "python",
   "nbconvert_exporter": "python",
   "pygments_lexer": "ipython3",
   "version": "3.9.7"
  }
 },
 "nbformat": 4,
 "nbformat_minor": 5
}
